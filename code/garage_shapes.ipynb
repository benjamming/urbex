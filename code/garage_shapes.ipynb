{
 "cells": [
  {
   "cell_type": "code",
   "execution_count": 11,
   "metadata": {},
   "outputs": [],
   "source": [
    "import geopandas\n",
    "\n",
    "shapes = geopandas.read_file(\"../data/raw/Louisville_KY_Downtown_Parking_shapefiles/Louisville_KY_Downtown_Parking.shp\")"
   ]
  },
  {
   "cell_type": "code",
   "execution_count": 12,
   "metadata": {},
   "outputs": [
    {
     "data": {
      "text/plain": [
       "Index(['OBJECTID', 'TYPE', 'NAME', 'PARKDT_WEB', 'OWNER_WEB', 'ADDRESS', 'ID',\n",
       "       'FACILITY', 'FAC_NUM', 'ADDRESS_1', 'CONTACT', 'COMPANY', 'OPERATOR',\n",
       "       'PHONE_AREA', 'CLASS', 'TYPE_FAC', 'LEVELS', 'TOTAL_SPCS', 'PRIVATE',\n",
       "       'PVT_PATRON', 'PVT_EMPL', 'PVT_FLEET', 'PVT_RESID', 'PVT_ACCESS',\n",
       "       'MONTHAVAIL', 'PUB_ACCESS', 'PROPOSED', 'DAY_RATE', 'MONTH_RATE',\n",
       "       'RSVD_RATE', 'SAT_RATE', 'SUN_RATE', 'RATE_STRU1', 'RATE_STRU2',\n",
       "       'RATE_STRU3', 'RATE_STRU4', 'RATE_STRU5', 'ADDL_RATE1', 'ADDL_RATE2',\n",
       "       'ADDL_RATE3', 'MEMO', 'NOTES', 'PARC', 'CITYPARK', 'WEB_DIST', 'LDMD',\n",
       "       'STR_BLOCK', 'TAX_BLOCK', 'TAX_LOT', 'STREETSORT', 'PUB_SPC',\n",
       "       'SHAPEAREA', 'SHAPELEN', 'geometry'],\n",
       "      dtype='object')"
      ]
     },
     "execution_count": 12,
     "metadata": {},
     "output_type": "execute_result"
    }
   ],
   "source": [
    "shapes.columns\n"
   ]
  },
  {
   "cell_type": "code",
   "execution_count": 13,
   "metadata": {},
   "outputs": [],
   "source": [
    "to_drop = [\"CONTACT\", \"FAC_NUM\", \"COMPANY\", \"OPERATOR\", \"ID\", \"LDMD\", \"STR_BLOCK\",\n",
    "            \"MEMO\", \"NOTES\", \"CITYPARK\", \"PROPOSED\", \"PARC\",\"TOTAL_SPCS\", \"MONTHAVAIL\", \"PUB_SPC\",\n",
    "            \"PHONE_AREA\" ]\n",
    "exclude_strings = ['RATE', 'TAX', 'WEB', \"PVT\", \"SHAPE\", 'PUB_ACCESS', 'STREETSORT']\n",
    "for string in exclude_strings:\n",
    "    for col in shapes.columns:\n",
    "        if string in col:\n",
    "            to_drop.append(col)\n",
    "\n",
    "redundant = ['ADDRESS_1', \"NAME\"]\n",
    "to_drop.extend(redundant)\n",
    "\n",
    "#to_drop\n",
    "cleaner = shapes.drop(to_drop, axis=1)\n",
    "# renaming to lowercase column names\n",
    "cleaner = cleaner.rename({column:column.lower() for column in cleaner.columns}, axis=1)"
   ]
  },
  {
   "cell_type": "code",
   "execution_count": 14,
   "metadata": {},
   "outputs": [
    {
     "data": {
      "text/html": [
       "<div>\n",
       "<style scoped>\n",
       "    .dataframe tbody tr th:only-of-type {\n",
       "        vertical-align: middle;\n",
       "    }\n",
       "\n",
       "    .dataframe tbody tr th {\n",
       "        vertical-align: top;\n",
       "    }\n",
       "\n",
       "    .dataframe thead th {\n",
       "        text-align: right;\n",
       "    }\n",
       "</style>\n",
       "<table border=\"1\" class=\"dataframe\">\n",
       "  <thead>\n",
       "    <tr style=\"text-align: right;\">\n",
       "      <th></th>\n",
       "      <th>objectid</th>\n",
       "      <th>type</th>\n",
       "      <th>address</th>\n",
       "      <th>facility</th>\n",
       "      <th>class</th>\n",
       "      <th>type_fac</th>\n",
       "      <th>levels</th>\n",
       "      <th>private</th>\n",
       "      <th>geometry</th>\n",
       "    </tr>\n",
       "  </thead>\n",
       "  <tbody>\n",
       "    <tr>\n",
       "      <th>2</th>\n",
       "      <td>3</td>\n",
       "      <td>G</td>\n",
       "      <td>401 W MAIN ST</td>\n",
       "      <td>One Riverfront Plaza</td>\n",
       "      <td>PUBLIC</td>\n",
       "      <td>GARAGE</td>\n",
       "      <td>2</td>\n",
       "      <td>0</td>\n",
       "      <td>POLYGON ((-85.75727 38.25755, -85.75720 38.257...</td>\n",
       "    </tr>\n",
       "    <tr>\n",
       "      <th>4</th>\n",
       "      <td>5</td>\n",
       "      <td>G</td>\n",
       "      <td>101 W WITHERSPOON</td>\n",
       "      <td>Witherspoon Garage</td>\n",
       "      <td>PUBLIC</td>\n",
       "      <td>GARAGE</td>\n",
       "      <td>3</td>\n",
       "      <td>0</td>\n",
       "      <td>POLYGON ((-85.75261 38.25795, -85.75252 38.258...</td>\n",
       "    </tr>\n",
       "    <tr>\n",
       "      <th>5</th>\n",
       "      <td>6</td>\n",
       "      <td>G</td>\n",
       "      <td>201 N BROOK ST</td>\n",
       "      <td>Humana Waterside Garage</td>\n",
       "      <td>PUBLIC</td>\n",
       "      <td>GARAGE</td>\n",
       "      <td>5</td>\n",
       "      <td>0</td>\n",
       "      <td>MULTIPOLYGON (((-85.74826 38.25655, -85.74976 ...</td>\n",
       "    </tr>\n",
       "    <tr>\n",
       "      <th>8</th>\n",
       "      <td>9</td>\n",
       "      <td>G</td>\n",
       "      <td>100 E MAIN ST</td>\n",
       "      <td>First &amp; Main Garage</td>\n",
       "      <td>PUBLIC</td>\n",
       "      <td>GARAGE</td>\n",
       "      <td>6</td>\n",
       "      <td>0</td>\n",
       "      <td>POLYGON ((-85.75094 38.25532, -85.75151 38.255...</td>\n",
       "    </tr>\n",
       "    <tr>\n",
       "      <th>10</th>\n",
       "      <td>11</td>\n",
       "      <td>G</td>\n",
       "      <td>100 S 2ND ST</td>\n",
       "      <td>Courtyard by Marriott Garage</td>\n",
       "      <td>PUBLIC</td>\n",
       "      <td>GARAGE</td>\n",
       "      <td>7</td>\n",
       "      <td>0</td>\n",
       "      <td>POLYGON ((-85.75372 38.25556, -85.75407 38.255...</td>\n",
       "    </tr>\n",
       "  </tbody>\n",
       "</table>\n",
       "</div>"
      ],
      "text/plain": [
       "    objectid type            address                      facility   class  \\\n",
       "2          3    G      401 W MAIN ST          One Riverfront Plaza  PUBLIC   \n",
       "4          5    G  101 W WITHERSPOON            Witherspoon Garage  PUBLIC   \n",
       "5          6    G     201 N BROOK ST       Humana Waterside Garage  PUBLIC   \n",
       "8          9    G      100 E MAIN ST           First & Main Garage  PUBLIC   \n",
       "10        11    G       100 S 2ND ST  Courtyard by Marriott Garage  PUBLIC   \n",
       "\n",
       "   type_fac levels  private                                           geometry  \n",
       "2    GARAGE      2        0  POLYGON ((-85.75727 38.25755, -85.75720 38.257...  \n",
       "4    GARAGE      3        0  POLYGON ((-85.75261 38.25795, -85.75252 38.258...  \n",
       "5    GARAGE      5        0  MULTIPOLYGON (((-85.74826 38.25655, -85.74976 ...  \n",
       "8    GARAGE      6        0  POLYGON ((-85.75094 38.25532, -85.75151 38.255...  \n",
       "10   GARAGE      7        0  POLYGON ((-85.75372 38.25556, -85.75407 38.255...  "
      ]
     },
     "execution_count": 14,
     "metadata": {},
     "output_type": "execute_result"
    }
   ],
   "source": [
    "cleaner = cleaner[cleaner['type'] == \"G\"]\n",
    "cleaner.head()"
   ]
  },
  {
   "cell_type": "code",
   "execution_count": 15,
   "metadata": {},
   "outputs": [],
   "source": [
    "all(cleaner.private == 0) # all garages are public?\n",
    "all(cleaner['class'].unique() == 'PUBLIC') # apparently\n",
    "to_drop_from_garages = ['private', 'class']\n",
    "\n",
    "cleaner[cleaner['type'] != \"G\"] # No results\n",
    "cleaner[cleaner['type_fac'] != \"GARAGE\"] # No results\n",
    "\n",
    "to_drop_from_garages.extend(('type', 'type_fac'))\n",
    "\n",
    "cleaner = cleaner.drop(to_drop_from_garages, axis=1)\n",
    "cleaner = cleaner.rename({'facility':'facility_name'}, axis=1)\n",
    "garages = cleaner[['facility_name', 'address', 'levels', 'geometry', 'objectid']]\n"
   ]
  },
  {
   "cell_type": "code",
   "execution_count": 16,
   "metadata": {},
   "outputs": [],
   "source": [
    "garages.to_csv(\"../data/cleaner/parking_garages.csv\")"
   ]
  }
 ],
 "metadata": {
  "kernelspec": {
   "display_name": "venv",
   "language": "python",
   "name": "python3"
  },
  "language_info": {
   "codemirror_mode": {
    "name": "ipython",
    "version": 3
   },
   "file_extension": ".py",
   "mimetype": "text/x-python",
   "name": "python",
   "nbconvert_exporter": "python",
   "pygments_lexer": "ipython3",
   "version": "3.11.1"
  }
 },
 "nbformat": 4,
 "nbformat_minor": 2
}
